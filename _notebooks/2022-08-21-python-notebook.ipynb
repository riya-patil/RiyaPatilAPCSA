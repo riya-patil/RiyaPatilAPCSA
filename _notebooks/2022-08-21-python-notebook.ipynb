

msg = "Hello from Riya"
print(msg)
