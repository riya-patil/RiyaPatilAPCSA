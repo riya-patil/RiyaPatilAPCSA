{
 "cells": [
  {
   "cell_type": "markdown",
   "metadata": {},
   "source": [
    "# Primitives - Temperature Converter\n",
    "Use this temperature converter to help you in AP Chemistry!\n",
    "\n",
    "categories:[fastpages, jupyter]\n",
    "toc: true\n",
    "comments: true"
   ]
  },
  {
   "cell_type": "code",
   "execution_count": 2,
   "metadata": {},
   "outputs": [
    {
     "name": "stdout",
     "output_type": "stream",
     "text": [
      "This is our program to convert Celcius to Kelvin. We are using it for our AP Chemistry class.\n",
      "Enter your name as a string: \n",
      "Hello Riya\n",
      "Enter your age as an integer: \n",
      "You are 16 years old.\n",
      "Are you in AP Chemistry? Enter your answer as a Boolean: \n",
      "Your answer: true\n",
      "Enter a degree in Celsius as a double: \n",
      "234.3 degree Celsius is equal to 507.3 in Kelvin\n"
     ]
    }
   ],
   "source": [
    "import java.util.Scanner;\n",
    "public class CelciustoKelvin {\n",
    "    public static void main (String[] args) {\n",
    "        Scanner input;\n",
    "\n",
    "        //use of wrapper class\n",
    "        String aString = \"This is our program to convert Celcius to Kelvin. We are using it for our AP Chemistry class.\";\n",
    "        System.out.println(aString);\n",
    "\n",
    "        //we used the string to greet the user\n",
    "        input = new Scanner(System.in);\n",
    "        System.out.println(\"Enter your name as a string: \");\n",
    "        String name = input.nextLine();\n",
    "        System.out.println(\"Hello \" + name );\n",
    "        input.close();\n",
    "\n",
    "        //the integer is used to get the age of the user\n",
    "        input = new Scanner(System.in);\n",
    "        System.out.println(\"Enter your age as an integer: \");\n",
    "        String age = input.nextLine();\n",
    "        System.out.println(\"You are \" + age + \" years old.\" );\n",
    "        input.close();\n",
    "\n",
    "        //boolean is used to get a true or false answer about whether the user is in AP Chem\n",
    "        input = new Scanner(System.in);\n",
    "        System.out.println(\"Are you in AP Chemistry? Enter your answer as a Boolean: \");\n",
    "        String chem = input.nextLine();\n",
    "        System.out.println(\"Your answer: \" + chem);\n",
    "        input.close();\n",
    "\n",
    "        //double is used to get a number from the user and convert it using arithmetic expression\n",
    "        input = new Scanner(System.in);\n",
    "        System.out.println(\"Enter a degree in Celsius as a double: \");\n",
    "        double celsius = input.nextDouble();\n",
    "        double kelvin = (celsius + 273.0);\n",
    "        System.out.println( celsius + \" degree Celsius is equal to \" + kelvin + \" in Kelvin\");\n",
    "        input.close();\n",
    "    }\n",
    "}\n",
    "CelciustoKelvin.main(null);"
   ]
  }
 ],
 "metadata": {
  "kernelspec": {
   "display_name": "Java",
   "language": "java",
   "name": "java"
  },
  "language_info": {
   "codemirror_mode": "java",
   "file_extension": ".jshell",
   "mimetype": "text/x-java-source",
   "name": "java",
   "pygments_lexer": "java",
   "version": "11.0.16+8-post-Ubuntu-0ubuntu122.04"
  },
  "orig_nbformat": 4
 },
 "nbformat": 4,
 "nbformat_minor": 2
}
